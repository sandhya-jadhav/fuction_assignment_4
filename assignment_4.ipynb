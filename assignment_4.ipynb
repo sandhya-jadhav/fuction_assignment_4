{
 "cells": [
  {
   "cell_type": "markdown",
   "id": "fe9289e8-a999-4914-82f9-9adf1bec613a",
   "metadata": {},
   "source": [
    "#### Q1. Create a python program to sort the given list of tuples based on integer value using a lambda function."
   ]
  },
  {
   "cell_type": "code",
   "execution_count": 3,
   "id": "38ad5799-a862-4d66-a148-ed25b23c823c",
   "metadata": {},
   "outputs": [
    {
     "name": "stdout",
     "output_type": "stream",
     "text": [
      "[('Jack Kallis', 25534), ('Ricky Ponting', 27483), ('Sachin Tendulkar', 34357), ('Virat Kohli', 24936)]\n"
     ]
    }
   ],
   "source": [
    "data = [('Sachin Tendulkar', 34357), ('Ricky Ponting', 27483), ('Jack Kallis', 25534), ('Virat Kohli', 24936)]\n",
    "\n",
    "num_sorted = sorted(data, key=lambda x: x[0])\n",
    "\n",
    "print(num_sorted)"
   ]
  },
  {
   "cell_type": "markdown",
   "id": "3e696844-e182-4b23-a7f4-2dca330d9667",
   "metadata": {},
   "source": [
    "#### Q2. Write a Python Program to find the squares of all the numbers in the given list of integers using lambda and map functions."
   ]
  },
  {
   "cell_type": "code",
   "execution_count": 4,
   "id": "951b5f8c-7ffa-43d9-8df8-b61422e2b65d",
   "metadata": {},
   "outputs": [
    {
     "name": "stdout",
     "output_type": "stream",
     "text": [
      "[1, 4, 9, 16, 25, 36, 49, 64, 81, 100]\n"
     ]
    }
   ],
   "source": [
    "num = [1, 2, 3, 4, 5, 6, 7, 8, 9, 10]\n",
    "\n",
    "squares = list(map(lambda x : x**2, num))\n",
    "\n",
    "print(squares)"
   ]
  },
  {
   "cell_type": "markdown",
   "id": "281e9e5b-eaaa-4e44-987d-a0484874f07d",
   "metadata": {},
   "source": [
    "#### Q3. Write a python program to convert the given list of integers into a tuple of strings. Use map and lambda functions"
   ]
  },
  {
   "cell_type": "code",
   "execution_count": 5,
   "id": "c6de948b-c088-4c82-9566-bf1e3899fff2",
   "metadata": {},
   "outputs": [
    {
     "name": "stdout",
     "output_type": "stream",
     "text": [
      "('1', '2', '3', '4', '5', '6', '7', '8', '9', '10')\n"
     ]
    }
   ],
   "source": [
    "num = [1, 2, 3, 4, 5, 6, 7, 8, 9, 10]\n",
    "\n",
    "num_string = tuple(map(lambda x: str(x), num))\n",
    "\n",
    "print(num_string)"
   ]
  },
  {
   "cell_type": "markdown",
   "id": "c36bc4b8-faad-44b8-b8d0-40550d328e68",
   "metadata": {},
   "source": [
    "#### Q4. Q4. Write a python program using reduce function to compute the product of a list containing numbers from 1 to 25.n"
   ]
  },
  {
   "cell_type": "code",
   "execution_count": 6,
   "id": "2da28deb-d36d-453b-9cba-6e4d00bff754",
   "metadata": {},
   "outputs": [
    {
     "name": "stdout",
     "output_type": "stream",
     "text": [
      "Product of numbers  15511210043330985984000000\n"
     ]
    }
   ],
   "source": [
    "from functools import reduce\n",
    "\n",
    "num = list(range(1,26))\n",
    "\n",
    "def multiply(x, y):\n",
    "    return x * y\n",
    "\n",
    "result = reduce(multiply, num)\n",
    "\n",
    "print('Product of numbers ', result)"
   ]
  },
  {
   "cell_type": "markdown",
   "id": "6a42d792-25cf-4d44-9d3e-996fd3cfff98",
   "metadata": {},
   "source": [
    "#### Q5. Write a python program to filter the numbers in a given list that are divisible by 2 and 3 using the filter function."
   ]
  },
  {
   "cell_type": "code",
   "execution_count": 16,
   "id": "1931ff36-9f78-41d3-8823-1d6fa0f6eeb7",
   "metadata": {},
   "outputs": [
    {
     "name": "stdout",
     "output_type": "stream",
     "text": [
      "divisible by 2 and 3: [6, 12, 18, 24]\n"
     ]
    }
   ],
   "source": [
    "num = [1, 2, 3, 4, 6, 8, 9, 12, 18, 21, 24]\n",
    "\n",
    "def final_num(x):\n",
    "    return x % 2 == 0 and x % 3 == 0\n",
    "\n",
    "f_num = list(filter(final_num, num))\n",
    "\n",
    "print(\"divisible by 2 and 3:\", f_num)\n"
   ]
  },
  {
   "cell_type": "markdown",
   "id": "8f89fcec-4eac-4172-9c34-76d9a16edf90",
   "metadata": {},
   "source": [
    "#### Q6. Write a python program to find palindromes in the given list of strings using lambda and filter function."
   ]
  },
  {
   "cell_type": "code",
   "execution_count": 17,
   "id": "00ec4f04-6019-4dea-b80c-68c1633528a2",
   "metadata": {},
   "outputs": [
    {
     "name": "stdout",
     "output_type": "stream",
     "text": [
      "palinfromes list : ['php', 'aba', 'radar', 'level']\n"
     ]
    }
   ],
   "source": [
    "string = ['python', 'php', 'aba', 'radar', 'level']\n",
    "\n",
    "palin_num = lambda s:s == s[::-1]\n",
    "\n",
    "palin = list(filter(palin_num,string))\n",
    "\n",
    "print('palinfromes list :',palin)"
   ]
  },
  {
   "cell_type": "code",
   "execution_count": null,
   "id": "71aeb850-857a-436a-b91c-58cd6fcc0962",
   "metadata": {},
   "outputs": [],
   "source": []
  },
  {
   "cell_type": "code",
   "execution_count": null,
   "id": "591a4998-a7e1-4137-8a39-693fd266ed4e",
   "metadata": {},
   "outputs": [],
   "source": []
  }
 ],
 "metadata": {
  "kernelspec": {
   "display_name": "Python 3 (ipykernel)",
   "language": "python",
   "name": "python3"
  },
  "language_info": {
   "codemirror_mode": {
    "name": "ipython",
    "version": 3
   },
   "file_extension": ".py",
   "mimetype": "text/x-python",
   "name": "python",
   "nbconvert_exporter": "python",
   "pygments_lexer": "ipython3",
   "version": "3.10.8"
  }
 },
 "nbformat": 4,
 "nbformat_minor": 5
}
